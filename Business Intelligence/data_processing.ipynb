{
 "cells": [
  {
   "cell_type": "code",
   "execution_count": null,
   "id": "f641cc6d",
   "metadata": {},
   "outputs": [],
   "source": [
    "# Import necessary libraries\n",
    "import pandas as pd\n",
    "import numpy as np"
   ]
  },
  {
   "cell_type": "code",
   "execution_count": null,
   "id": "f9ce2abd",
   "metadata": {},
   "outputs": [],
   "source": [
    "# Read Spotify songs data from CSV file\n",
    "songs = pd.read_csv(\"raw/spotify_songs.csv\")\n",
    "\n",
    "# Read Spotify user playlist data from CSV file, handle bad lines by skipping them, and name the columns explicitly\n",
    "playlist = pd.read_csv(\"raw/spotify_dataset.csv\", on_bad_lines='skip', names=[\"user_id\", \"artist_name\", \"track_name\", \"playlist_name\"])\n",
    "\n",
    "# Read chart data from CSV file\n",
    "charts = pd.read_csv(\"raw/charts.csv\")"
   ]
  },
  {
   "cell_type": "code",
   "execution_count": null,
   "id": "442a98e4",
   "metadata": {},
   "outputs": [],
   "source": [
    "# Convert 'date' column to datetime format in the charts DataFrame\n",
    "charts[\"date\"] = pd.to_datetime(charts.date)"
   ]
  },
  {
   "cell_type": "code",
   "execution_count": null,
   "id": "cfe0eefb",
   "metadata": {},
   "outputs": [],
   "source": [
    "# Rename columns in the songs DataFrame for consistency\n",
    "songs = songs.rename(columns={\"track_artist\": \"artist_name\"})\n",
    "\n",
    "# Rename columns in the charts DataFrame for consistency\n",
    "charts = charts.rename(columns={\"artist\": \"artist_name\", \"title\": \"track_name\"})"
   ]
  },
  {
   "cell_type": "code",
   "execution_count": null,
   "id": "5278f970",
   "metadata": {},
   "outputs": [],
   "source": [
    "# Filter charts data to only include entries from the 1st day of months that are divisible by 6 (June and December)\n",
    "charts = charts[(charts[\"date\"].dt.day == 1) & (charts[\"date\"].dt.month % 6 == 0)]"
   ]
  },
  {
   "cell_type": "code",
   "execution_count": null,
   "id": "7de1e987",
   "metadata": {
    "title": "md"
   },
   "outputs": [],
   "source": [
    "# Artist table"
   ]
  },
  {
   "cell_type": "code",
   "execution_count": null,
   "id": "c70cfc85",
   "metadata": {},
   "outputs": [],
   "source": [
    "# Create a DataFrame for artists, extracting unique artist names and assigning them an index as 'artist_id'\n",
    "artists = pd.DataFrame(songs.artist_name.unique(), columns=[\"artist_name\"])\n",
    "artists.loc[:, \"artist_id\"] = artists.index"
   ]
  },
  {
   "cell_type": "code",
   "execution_count": null,
   "id": "6dac1051",
   "metadata": {},
   "outputs": [],
   "source": [
    "# Create a mapping from artist names to artist IDs\n",
    "mapping = artists.set_index(\"artist_name\")\n",
    "\n",
    "# Initialize 'artist_id' column in songs DataFrame\n",
    "songs.loc[:, \"artist_id\"] = pd.Series(dtype=int)\n",
    "\n",
    "# Map artist names to artist IDs in songs DataFrame using the mapping created earlier\n",
    "songs.loc[:, \"artist_id\"] = songs.artist_name.apply(lambda x: mapping.loc[x])"
   ]
  },
  {
   "cell_type": "code",
   "execution_count": null,
   "id": "9c8200a2",
   "metadata": {
    "title": "md"
   },
   "outputs": [],
   "source": [
    "# Intersection of datasets"
   ]
  },
  {
   "cell_type": "code",
   "execution_count": null,
   "id": "71a1e7c9",
   "metadata": {},
   "outputs": [],
   "source": [
    "# Define keys and IDs for merging DataFrames\n",
    "merge_keys = [\"track_name\", \"artist_name\"]\n",
    "merge_ids = [\"track_id\", \"artist_id\"]"
   ]
  },
  {
   "cell_type": "code",
   "execution_count": null,
   "id": "3cd047e5",
   "metadata": {},
   "outputs": [],
   "source": [
    "# Merge playlist with songs data to create a DataFrame that includes user playlists with song and artist IDs\n",
    "playlist_user = playlist.merge(songs[[*merge_keys, *merge_ids]], on=merge_keys).reset_index(drop=True)\n",
    "playlist_user.loc[:, \"playlist_user_id\"] = playlist_user.index"
   ]
  },
  {
   "cell_type": "code",
   "execution_count": null,
   "id": "97a029c0",
   "metadata": {
    "title": "md"
   },
   "outputs": [],
   "source": [
    "# Combine Spotify and user playlists"
   ]
  },
  {
   "cell_type": "code",
   "execution_count": null,
   "id": "b38e7a95",
   "metadata": {},
   "outputs": [],
   "source": [
    "# Prepare columns to be included from the songs DataFrame for the Spotify playlists DataFrame\n",
    "playlist_cols = [\"playlist_id\", \"playlist_name\", \"playlist_genre\", \"playlist_subgenre\"]\n",
    "\n",
    "# Create a DataFrame for Spotify playlists, assigning new IDs for Spotify playlists\n",
    "playlist_spotify = songs[[*merge_keys, *merge_ids, *playlist_cols]].rename(columns={\"playlist_id\": \"playlist_spotify_id\"})\n",
    "songs = songs.drop(columns=playlist_cols)\n",
    "playlist_spotify.loc[:, \"playlist_spotify_id\"] = playlist_spotify.index"
   ]
  },
  {
   "cell_type": "code",
   "execution_count": null,
   "id": "baa7c440",
   "metadata": {
    "lines_to_next_cell": 0
   },
   "outputs": [],
   "source": [
    "# Merge charts data with songs data\n",
    "charts = charts.merge(songs[[*merge_keys, *merge_ids]], on=merge_keys)"
   ]
  },
  {
   "cell_type": "code",
   "execution_count": null,
   "id": "1d4e9b30",
   "metadata": {},
   "outputs": [],
   "source": [
    "# Create separate DataFrames for Viral50 and Top200 charts and drop unneeded columns\n",
    "chart_drop_cols = [\"chart\", \"track_name\", \"artist_name\", \"url\"]\n",
    "viral50 = charts[charts['chart'] == 'viral50'].drop(columns=chart_drop_cols).reset_index(drop=True)\n",
    "viral50.loc[:, \"viral50_id\"] = viral50.index\n",
    "top200 = charts[charts['chart'] == 'top200'].drop(columns=chart_drop_cols).reset_index(drop=True)\n",
    "top200.loc[:, \"top200_id\"] = top200.index"
   ]
  },
  {
   "cell_type": "code",
   "execution_count": null,
   "id": "e8a9c240",
   "metadata": {
    "lines_to_next_cell": 0,
    "title": "md"
   },
   "outputs": [],
   "source": [
    "# Create Facts Table"
   ]
  },
  {
   "cell_type": "code",
   "execution_count": null,
   "id": "39644985",
   "metadata": {
    "lines_to_next_cell": 0
   },
   "outputs": [],
   "source": [
    "# Create a Facts Table by merging playlist and chart DataFrames on song and artist IDs\n",
    "playlist_merged = (\n",
    "    playlist_user[[*merge_ids, \"user_id\", \"playlist_user_id\"]]\n",
    "    .merge(playlist_spotify[[*merge_ids, \"playlist_spotify_id\"]], on=merge_ids, how=\"outer\")\n",
    ")"
   ]
  },
  {
   "cell_type": "code",
   "execution_count": null,
   "id": "f23310e8",
   "metadata": {
    "lines_to_next_cell": 0
   },
   "outputs": [],
   "source": [
    "charts_merged = (\n",
    "    viral50[[*merge_ids, \"viral50_id\"]]\n",
    "    .merge(top200[[*merge_ids, \"top200_id\"]], on=merge_ids, how=\"outer\")\n",
    ")"
   ]
  },
  {
   "cell_type": "code",
   "execution_count": null,
   "id": "a17bc0c2",
   "metadata": {
    "lines_to_next_cell": 0
   },
   "outputs": [],
   "source": [
    "facts = playlist_merged.merge(charts_merged, on=merge_ids, how=\"outer\")"
   ]
  },
  {
   "cell_type": "code",
   "execution_count": null,
   "id": "dee9c3ba",
   "metadata": {},
   "outputs": [],
   "source": [
    "# Export processed data to CSV files\n",
    "songs.to_csv(\"processed/songs.csv\", index=False)\n",
    "artists.to_csv(\"processed/artists.csv\", index=False)\n",
    "playlist_user.to_csv(\"processed/playlist_user.csv\", index=False)\n",
    "playlist_spotify.to_csv(\"processed/playlist_spotify.csv\", index=False)\n",
    "viral50.to_csv(\"processed/viral50.csv\", index=False)\n",
    "top200.to_csv(\"processed/top200.csv\", index=False)\n",
    "facts.to_csv(\"processed/facts.csv\", index=False)"
   ]
  }
 ],
 "metadata": {
  "jupytext": {
   "cell_metadata_filter": "title,-all",
   "main_language": "python",
   "notebook_metadata_filter": "-all"
  }
 },
 "nbformat": 4,
 "nbformat_minor": 5
}
